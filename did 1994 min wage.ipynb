{
 "cells": [
  {
   "cell_type": "code",
   "execution_count": 1,
   "metadata": {},
   "outputs": [],
   "source": [
    "import pandas as pd\n",
    "import numpy as np\n",
    "import statsmodels.formula.api as smf\n",
    "import statsmodels.api as sm\n",
    "import matplotlib.pyplot as plt\n",
    "import seaborn as sns"
   ]
  },
  {
   "cell_type": "code",
   "execution_count": 2,
   "metadata": {
    "scrolled": true
   },
   "outputs": [
    {
     "data": {
      "text/html": [
       "<div>\n",
       "<style scoped>\n",
       "    .dataframe tbody tr th:only-of-type {\n",
       "        vertical-align: middle;\n",
       "    }\n",
       "\n",
       "    .dataframe tbody tr th {\n",
       "        vertical-align: top;\n",
       "    }\n",
       "\n",
       "    .dataframe thead th {\n",
       "        text-align: right;\n",
       "    }\n",
       "</style>\n",
       "<table border=\"1\" class=\"dataframe\">\n",
       "  <thead>\n",
       "    <tr style=\"text-align: right;\">\n",
       "      <th></th>\n",
       "      <th>sheet</th>\n",
       "      <th>chain</th>\n",
       "      <th>co_owned</th>\n",
       "      <th>state</th>\n",
       "      <th>southj</th>\n",
       "      <th>centralj</th>\n",
       "      <th>northj</th>\n",
       "      <th>pa1</th>\n",
       "      <th>pa2</th>\n",
       "      <th>shore</th>\n",
       "      <th>...</th>\n",
       "      <th>hrsopen</th>\n",
       "      <th>psoda</th>\n",
       "      <th>pfry</th>\n",
       "      <th>pentree</th>\n",
       "      <th>nregs</th>\n",
       "      <th>nregs11</th>\n",
       "      <th>type</th>\n",
       "      <th>status</th>\n",
       "      <th>date</th>\n",
       "      <th>special</th>\n",
       "    </tr>\n",
       "  </thead>\n",
       "  <tbody>\n",
       "    <tr>\n",
       "      <th>0</th>\n",
       "      <td>1</td>\n",
       "      <td>1</td>\n",
       "      <td>0</td>\n",
       "      <td>1</td>\n",
       "      <td>0</td>\n",
       "      <td>1</td>\n",
       "      <td>0</td>\n",
       "      <td>0</td>\n",
       "      <td>0</td>\n",
       "      <td>0</td>\n",
       "      <td>...</td>\n",
       "      <td>16.0</td>\n",
       "      <td>0.93</td>\n",
       "      <td>0.83</td>\n",
       "      <td>0.85</td>\n",
       "      <td>4.0</td>\n",
       "      <td>3.0</td>\n",
       "      <td>1.0</td>\n",
       "      <td>1.0</td>\n",
       "      <td>110592.0</td>\n",
       "      <td>0.0</td>\n",
       "    </tr>\n",
       "    <tr>\n",
       "      <th>1</th>\n",
       "      <td>1</td>\n",
       "      <td>1</td>\n",
       "      <td>0</td>\n",
       "      <td>1</td>\n",
       "      <td>0</td>\n",
       "      <td>1</td>\n",
       "      <td>0</td>\n",
       "      <td>0</td>\n",
       "      <td>0</td>\n",
       "      <td>0</td>\n",
       "      <td>...</td>\n",
       "      <td>16.0</td>\n",
       "      <td>1.05</td>\n",
       "      <td>0.79</td>\n",
       "      <td>0.90</td>\n",
       "      <td>4.0</td>\n",
       "      <td>3.0</td>\n",
       "      <td>NaN</td>\n",
       "      <td>NaN</td>\n",
       "      <td>NaN</td>\n",
       "      <td>NaN</td>\n",
       "    </tr>\n",
       "    <tr>\n",
       "      <th>2</th>\n",
       "      <td>2</td>\n",
       "      <td>1</td>\n",
       "      <td>0</td>\n",
       "      <td>1</td>\n",
       "      <td>0</td>\n",
       "      <td>1</td>\n",
       "      <td>0</td>\n",
       "      <td>0</td>\n",
       "      <td>0</td>\n",
       "      <td>0</td>\n",
       "      <td>...</td>\n",
       "      <td>14.0</td>\n",
       "      <td>1.06</td>\n",
       "      <td>0.91</td>\n",
       "      <td>0.96</td>\n",
       "      <td>2.0</td>\n",
       "      <td>2.0</td>\n",
       "      <td>1.0</td>\n",
       "      <td>1.0</td>\n",
       "      <td>110592.0</td>\n",
       "      <td>1.0</td>\n",
       "    </tr>\n",
       "    <tr>\n",
       "      <th>3</th>\n",
       "      <td>2</td>\n",
       "      <td>1</td>\n",
       "      <td>0</td>\n",
       "      <td>1</td>\n",
       "      <td>0</td>\n",
       "      <td>1</td>\n",
       "      <td>0</td>\n",
       "      <td>0</td>\n",
       "      <td>0</td>\n",
       "      <td>0</td>\n",
       "      <td>...</td>\n",
       "      <td>15.0</td>\n",
       "      <td>1.05</td>\n",
       "      <td>1.01</td>\n",
       "      <td>0.94</td>\n",
       "      <td>2.0</td>\n",
       "      <td>2.0</td>\n",
       "      <td>NaN</td>\n",
       "      <td>NaN</td>\n",
       "      <td>NaN</td>\n",
       "      <td>NaN</td>\n",
       "    </tr>\n",
       "    <tr>\n",
       "      <th>4</th>\n",
       "      <td>3</td>\n",
       "      <td>2</td>\n",
       "      <td>0</td>\n",
       "      <td>1</td>\n",
       "      <td>0</td>\n",
       "      <td>1</td>\n",
       "      <td>0</td>\n",
       "      <td>0</td>\n",
       "      <td>0</td>\n",
       "      <td>0</td>\n",
       "      <td>...</td>\n",
       "      <td>10.0</td>\n",
       "      <td>1.06</td>\n",
       "      <td>0.95</td>\n",
       "      <td>3.09</td>\n",
       "      <td>5.0</td>\n",
       "      <td>3.0</td>\n",
       "      <td>1.0</td>\n",
       "      <td>1.0</td>\n",
       "      <td>111792.0</td>\n",
       "      <td>0.0</td>\n",
       "    </tr>\n",
       "  </tbody>\n",
       "</table>\n",
       "<p>5 rows × 32 columns</p>\n",
       "</div>"
      ],
      "text/plain": [
       "   sheet  chain  co_owned  state  southj  centralj  northj  pa1  pa2  shore  \\\n",
       "0      1      1         0      1       0         1       0    0    0      0   \n",
       "1      1      1         0      1       0         1       0    0    0      0   \n",
       "2      2      1         0      1       0         1       0    0    0      0   \n",
       "3      2      1         0      1       0         1       0    0    0      0   \n",
       "4      3      2         0      1       0         1       0    0    0      0   \n",
       "\n",
       "    ...     hrsopen  psoda  pfry  pentree  nregs  nregs11  type  status  \\\n",
       "0   ...        16.0   0.93  0.83     0.85    4.0      3.0   1.0     1.0   \n",
       "1   ...        16.0   1.05  0.79     0.90    4.0      3.0   NaN     NaN   \n",
       "2   ...        14.0   1.06  0.91     0.96    2.0      2.0   1.0     1.0   \n",
       "3   ...        15.0   1.05  1.01     0.94    2.0      2.0   NaN     NaN   \n",
       "4   ...        10.0   1.06  0.95     3.09    5.0      3.0   1.0     1.0   \n",
       "\n",
       "       date  special  \n",
       "0  110592.0      0.0  \n",
       "1       NaN      NaN  \n",
       "2  110592.0      1.0  \n",
       "3       NaN      NaN  \n",
       "4  111792.0      0.0  \n",
       "\n",
       "[5 rows x 32 columns]"
      ]
     },
     "execution_count": 2,
     "metadata": {},
     "output_type": "execute_result"
    }
   ],
   "source": [
    "df = pd.read_csv('minwage.csv')\n",
    "df.head()"
   ]
  },
  {
   "cell_type": "code",
   "execution_count": 3,
   "metadata": {},
   "outputs": [],
   "source": [
    "# binary for pre vs post policy change, 0=pre, 1=post\n",
    "df['pre_post'] = df['period']== 1\n",
    "df['pre_post'] = df['pre_post'].astype(int)"
   ]
  },
  {
   "cell_type": "code",
   "execution_count": 4,
   "metadata": {},
   "outputs": [],
   "source": [
    "# burger king\n",
    "df['bk'] = df['chain']==1\n",
    "df['bk'] = df['bk'].astype(int)"
   ]
  },
  {
   "cell_type": "code",
   "execution_count": 5,
   "metadata": {},
   "outputs": [],
   "source": [
    "# kfc\n",
    "df['kfc'] = df['chain']==2\n",
    "df['kfc'] = df['kfc'].astype(int)"
   ]
  },
  {
   "cell_type": "code",
   "execution_count": 6,
   "metadata": {},
   "outputs": [],
   "source": [
    "# roy\n",
    "df['roy'] = df['chain']==3\n",
    "df['roy'] = df['roy'].astype(int)"
   ]
  },
  {
   "cell_type": "code",
   "execution_count": 7,
   "metadata": {},
   "outputs": [],
   "source": [
    "# wendy\n",
    "df['wendy'] = df['chain']==4\n",
    "df['wendy'] = df['wendy'].astype(int)"
   ]
  },
  {
   "cell_type": "code",
   "execution_count": 8,
   "metadata": {},
   "outputs": [],
   "source": [
    "df['nj'] = df['state']==1\n",
    "df['nj'] = df['nj'].astype(int)"
   ]
  },
  {
   "cell_type": "code",
   "execution_count": 9,
   "metadata": {},
   "outputs": [],
   "source": [
    "# interaction nj * post\n",
    "df['post_nj'] = df['nj']*df['pre_post']"
   ]
  },
  {
   "cell_type": "code",
   "execution_count": 10,
   "metadata": {},
   "outputs": [],
   "source": [
    "model = smf.ols(formula = \"empft ~ post_nj + bk + kfc + roy + co_owned + southj + centralj + pa1\", data = df).fit()"
   ]
  },
  {
   "cell_type": "code",
   "execution_count": 11,
   "metadata": {},
   "outputs": [
    {
     "name": "stdout",
     "output_type": "stream",
     "text": [
      "                            OLS Regression Results                            \n",
      "==============================================================================\n",
      "Dep. Variable:                  empft   R-squared:                       0.075\n",
      "Model:                            OLS   Adj. R-squared:                  0.065\n",
      "Method:                 Least Squares   F-statistic:                     7.997\n",
      "Date:                Thu, 17 Mar 2022   Prob (F-statistic):           2.11e-10\n",
      "Time:                        19:51:59   Log-Likelihood:                -2803.5\n",
      "No. Observations:                 802   AIC:                             5625.\n",
      "Df Residuals:                     793   BIC:                             5667.\n",
      "Df Model:                           8                                         \n",
      "Covariance Type:            nonrobust                                         \n",
      "==============================================================================\n",
      "                 coef    std err          t      P>|t|      [0.025      0.975]\n",
      "------------------------------------------------------------------------------\n",
      "Intercept     10.2475      0.867     11.813      0.000       8.545      11.950\n",
      "post_nj       -0.7551      0.600     -1.258      0.209      -1.933       0.423\n",
      "bk             0.7739      0.878      0.882      0.378      -0.949       2.497\n",
      "kfc           -3.9022      1.011     -3.859      0.000      -5.887      -1.918\n",
      "roy           -0.9503      1.022     -0.930      0.353      -2.956       1.055\n",
      "co_owned      -0.0082      0.685     -0.012      0.990      -1.352       1.336\n",
      "southj        -2.8506      0.720     -3.958      0.000      -4.264      -1.437\n",
      "centralj      -1.1501      0.837     -1.374      0.170      -2.793       0.493\n",
      "pa1           -2.0646      1.076     -1.919      0.055      -4.177       0.047\n",
      "==============================================================================\n",
      "Omnibus:                      241.107   Durbin-Watson:                   1.842\n",
      "Prob(Omnibus):                  0.000   Jarque-Bera (JB):              739.761\n",
      "Skew:                           1.467   Prob(JB):                    2.31e-161\n",
      "Kurtosis:                       6.677   Cond. No.                         7.63\n",
      "==============================================================================\n",
      "\n",
      "Warnings:\n",
      "[1] Standard Errors assume that the covariance matrix of the errors is correctly specified.\n"
     ]
    }
   ],
   "source": [
    "print(model.summary())"
   ]
  },
  {
   "cell_type": "code",
   "execution_count": 12,
   "metadata": {},
   "outputs": [],
   "source": [
    "# full time equivalent\n",
    "df['fte'] = df['empft'] + df['nmgrs'] + 0.5 * df['emppt']"
   ]
  },
  {
   "cell_type": "code",
   "execution_count": 13,
   "metadata": {},
   "outputs": [
    {
     "name": "stdout",
     "output_type": "stream",
     "text": [
      "                            OLS Regression Results                            \n",
      "==============================================================================\n",
      "Dep. Variable:                    fte   R-squared:                       0.218\n",
      "Model:                            OLS   Adj. R-squared:                  0.210\n",
      "Method:                 Least Squares   F-statistic:                     27.38\n",
      "Date:                Thu, 17 Mar 2022   Prob (F-statistic):           1.21e-37\n",
      "Time:                        19:51:59   Log-Likelihood:                -2809.5\n",
      "No. Observations:                 794   AIC:                             5637.\n",
      "Df Residuals:                     785   BIC:                             5679.\n",
      "Df Model:                           8                                         \n",
      "Covariance Type:            nonrobust                                         \n",
      "==============================================================================\n",
      "                 coef    std err          t      P>|t|      [0.025      0.975]\n",
      "------------------------------------------------------------------------------\n",
      "Intercept     23.7791      0.910     26.137      0.000      21.993      25.565\n",
      "post_nj       -0.4517      0.630     -0.717      0.474      -1.688       0.785\n",
      "bk             1.0223      0.921      1.110      0.267      -0.786       2.830\n",
      "kfc           -9.0316      1.059     -8.526      0.000     -11.111      -6.952\n",
      "roy           -0.7095      1.072     -0.662      0.508      -2.814       1.395\n",
      "co_owned      -0.7223      0.719     -1.005      0.315      -2.134       0.689\n",
      "southj        -3.5586      0.756     -4.709      0.000      -5.042      -2.075\n",
      "centralj       0.1532      0.877      0.175      0.861      -1.569       1.875\n",
      "pa1            0.3260      1.130      0.288      0.773      -1.892       2.544\n",
      "==============================================================================\n",
      "Omnibus:                      294.928   Durbin-Watson:                   1.622\n",
      "Prob(Omnibus):                  0.000   Jarque-Bera (JB):             1827.638\n",
      "Skew:                           1.548   Prob(JB):                         0.00\n",
      "Kurtosis:                       9.757   Cond. No.                         7.63\n",
      "==============================================================================\n",
      "\n",
      "Warnings:\n",
      "[1] Standard Errors assume that the covariance matrix of the errors is correctly specified.\n"
     ]
    }
   ],
   "source": [
    "model_2 = smf.ols(formula = \"fte ~ post_nj + bk + kfc + roy + co_owned + southj + centralj + pa1\", data = df).fit()\n",
    "print(model_2.summary())"
   ]
  },
  {
   "cell_type": "code",
   "execution_count": 14,
   "metadata": {},
   "outputs": [
    {
     "data": {
      "image/png": "[encoded data removed]",
      "text/plain": [
       "<Figure size 640x480 with 1 Axes>"
      ]
     },
     "metadata": {},
     "output_type": "display_data"
    }
   ],
   "source": [
    "sns.set_theme(style='whitegrid')\n",
    "ax = sns.boxplot(x='nj', y='fte', hue='pre_post',\n",
    "                 data=df, palette='Set3')\n",
    "plt.show()"
   ]
  },
  {
   "cell_type": "code",
   "execution_count": 15,
   "metadata": {},
   "outputs": [
    {
     "data": {
      "image/png": "[encoded data removed]",
      "text/plain": [
       "<Figure size 640x480 with 1 Axes>"
      ]
     },
     "metadata": {},
     "output_type": "display_data"
    }
   ],
   "source": [
    "ax = sns.boxplot(x='chain', y='fte', hue='pre_post',\n",
    "                 data=df, palette='Set3')\n",
    "plt.show()"
   ]
  },
  {
   "cell_type": "code",
   "execution_count": null,
   "metadata": {},
   "outputs": [],
   "source": []
  }
 ],
 "metadata": {
  "kernelspec": {
   "display_name": "Python 3",
   "language": "python",
   "name": "python3"
  },
  "language_info": {
   "codemirror_mode": {
    "name": "ipython",
    "version": 3
   },
   "file_extension": ".py",
   "mimetype": "text/x-python",
   "name": "python",
   "nbconvert_exporter": "python",
   "pygments_lexer": "ipython3",
   "version": "3.7.2"
  }
 },
 "nbformat": 4,
 "nbformat_minor": 2
}
